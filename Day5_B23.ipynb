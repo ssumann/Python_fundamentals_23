{
 "cells": [
  {
   "cell_type": "code",
   "execution_count": null,
   "metadata": {},
   "outputs": [],
   "source": [
    "#introduction to looping statements:\n",
    "working with for loop:"
   ]
  },
  {
   "cell_type": "code",
   "execution_count": 1,
   "metadata": {},
   "outputs": [],
   "source": [
    "bank_customers = ['naveen','papi','ram','karthik','samia','vandana','anushka']"
   ]
  },
  {
   "cell_type": "code",
   "execution_count": null,
   "metadata": {},
   "outputs": [],
   "source": [
    "#req: to greet all the customers on a new year\n",
    "Wish you a very happy new year"
   ]
  },
  {
   "cell_type": "code",
   "execution_count": 2,
   "metadata": {},
   "outputs": [
    {
     "name": "stdout",
     "output_type": "stream",
     "text": [
      "Wish you a very happy new year, naveen\n"
     ]
    }
   ],
   "source": [
    "print(f\"Wish you a very happy new year, {bank_customers[0]}\")"
   ]
  },
  {
   "cell_type": "code",
   "execution_count": 3,
   "metadata": {},
   "outputs": [
    {
     "name": "stdout",
     "output_type": "stream",
     "text": [
      "Wish you a very happy new year, papi\n"
     ]
    }
   ],
   "source": [
    "print(f\"Wish you a very happy new year, {bank_customers[1]}\")"
   ]
  },
  {
   "cell_type": "code",
   "execution_count": null,
   "metadata": {},
   "outputs": [],
   "source": [
    "#using for loop"
   ]
  },
  {
   "cell_type": "code",
   "execution_count": 4,
   "metadata": {},
   "outputs": [
    {
     "name": "stdout",
     "output_type": "stream",
     "text": [
      "Wish you a very happy new year, naveen\n",
      "Wish you a very happy new year, papi\n",
      "Wish you a very happy new year, ram\n",
      "Wish you a very happy new year, karthik\n",
      "Wish you a very happy new year, samia\n",
      "Wish you a very happy new year, vandana\n",
      "Wish you a very happy new year, anushka\n"
     ]
    }
   ],
   "source": [
    "for customer in bank_customers:\n",
    "   print(f\"Wish you a very happy new year, {customer}\")"
   ]
  },
  {
   "cell_type": "code",
   "execution_count": null,
   "metadata": {},
   "outputs": [],
   "source": [
    "#General syntax of forr loop:\n",
    "for tempvar in mainvar:\n",
    "    print(tempvar) # indentation\n",
    "    "
   ]
  },
  {
   "cell_type": "code",
   "execution_count": 6,
   "metadata": {},
   "outputs": [
    {
     "name": "stdout",
     "output_type": "stream",
     "text": [
      "Wish you a very happy new year, naveen\n",
      "Wish you a very happy new year, papi\n",
      "Wish you a very happy new year, ram\n",
      "Wish you a very happy new year, karthik\n",
      "Wish you a very happy new year, samia\n",
      "Wish you a very happy new year, vandana\n",
      "Wish you a very happy new year, anushka\n"
     ]
    }
   ],
   "source": [
    "for x in bank_customers:\n",
    "   print(f\"Wish you a very happy new year, {x}\")"
   ]
  },
  {
   "cell_type": "code",
   "execution_count": 7,
   "metadata": {},
   "outputs": [
    {
     "ename": "IndentationError",
     "evalue": "expected an indented block (<ipython-input-7-f058f7aba3bf>, line 2)",
     "output_type": "error",
     "traceback": [
      "\u001b[1;36m  File \u001b[1;32m\"<ipython-input-7-f058f7aba3bf>\"\u001b[1;36m, line \u001b[1;32m2\u001b[0m\n\u001b[1;33m    print(f\"Wish you a very happy new year, {x}\")\u001b[0m\n\u001b[1;37m        ^\u001b[0m\n\u001b[1;31mIndentationError\u001b[0m\u001b[1;31m:\u001b[0m expected an indented block\n"
     ]
    }
   ],
   "source": [
    "for x in bank_customers:\n",
    "print(f\"Wish you a very happy new year, {x}\")"
   ]
  },
  {
   "cell_type": "code",
   "execution_count": 8,
   "metadata": {},
   "outputs": [],
   "source": [
    "students = ['suman','keerti','yasmeen','ravi','john','praveen','sajid']"
   ]
  },
  {
   "cell_type": "code",
   "execution_count": null,
   "metadata": {},
   "outputs": [],
   "source": [
    "#req: to appreciate the students"
   ]
  },
  {
   "cell_type": "code",
   "execution_count": 12,
   "metadata": {},
   "outputs": [
    {
     "name": "stdout",
     "output_type": "stream",
     "text": [
      "Keep up the good work, suman\n",
      "Keep up the good work, keerti\n",
      "Keep up the good work, yasmeen\n",
      "Keep up the good work, ravi\n",
      "Keep up the good work, john\n",
      "Keep up the good work, praveen\n",
      "Keep up the good work, sajid\n"
     ]
    }
   ],
   "source": [
    "for x in students:\n",
    "    print(f\"Keep up the good work, {x}\")"
   ]
  },
  {
   "cell_type": "code",
   "execution_count": 13,
   "metadata": {},
   "outputs": [
    {
     "name": "stdout",
     "output_type": "stream",
     "text": [
      "Keep up the good work, Suman\n",
      "Keep up the good work, Keerti\n",
      "Keep up the good work, Yasmeen\n",
      "Keep up the good work, Ravi\n",
      "Keep up the good work, John\n",
      "Keep up the good work, Praveen\n",
      "Keep up the good work, Sajid\n"
     ]
    }
   ],
   "source": [
    "for x in students:\n",
    "    print(f\"Keep up the good work, {x.title()}\")"
   ]
  },
  {
   "cell_type": "code",
   "execution_count": null,
   "metadata": {},
   "outputs": [],
   "source": [
    "#enhancement of the code"
   ]
  },
  {
   "cell_type": "code",
   "execution_count": 15,
   "metadata": {},
   "outputs": [
    {
     "name": "stdout",
     "output_type": "stream",
     "text": [
      "Keep up the good work, Suman\n",
      "I will be looking forward to receive all your practice files of today, Suman\n",
      "Keep up the good work, Keerti\n",
      "I will be looking forward to receive all your practice files of today, Keerti\n",
      "Keep up the good work, Yasmeen\n",
      "I will be looking forward to receive all your practice files of today, Yasmeen\n",
      "Keep up the good work, Ravi\n",
      "I will be looking forward to receive all your practice files of today, Ravi\n",
      "Keep up the good work, John\n",
      "I will be looking forward to receive all your practice files of today, John\n",
      "Keep up the good work, Praveen\n",
      "I will be looking forward to receive all your practice files of today, Praveen\n",
      "Keep up the good work, Sajid\n",
      "I will be looking forward to receive all your practice files of today, Sajid\n"
     ]
    }
   ],
   "source": [
    "for x in students:\n",
    "    print(f\"Keep up the good work, {x.title()}\")\n",
    "    print(f\"I will be looking forward to receive all your practice files of today, {x.title()}\")"
   ]
  },
  {
   "cell_type": "code",
   "execution_count": 16,
   "metadata": {},
   "outputs": [
    {
     "name": "stdout",
     "output_type": "stream",
     "text": [
      "Keep up the good work, Suman\n",
      "I will be looking forward to receive all your practice files of today, Suman.\n",
      "\n",
      "Keep up the good work, Keerti\n",
      "I will be looking forward to receive all your practice files of today, Keerti.\n",
      "\n",
      "Keep up the good work, Yasmeen\n",
      "I will be looking forward to receive all your practice files of today, Yasmeen.\n",
      "\n",
      "Keep up the good work, Ravi\n",
      "I will be looking forward to receive all your practice files of today, Ravi.\n",
      "\n",
      "Keep up the good work, John\n",
      "I will be looking forward to receive all your practice files of today, John.\n",
      "\n",
      "Keep up the good work, Praveen\n",
      "I will be looking forward to receive all your practice files of today, Praveen.\n",
      "\n",
      "Keep up the good work, Sajid\n",
      "I will be looking forward to receive all your practice files of today, Sajid.\n",
      "\n"
     ]
    }
   ],
   "source": [
    "for x in students:\n",
    "    print(f\"Keep up the good work, {x.title()}\")\n",
    "    print(f\"I will be looking forward to receive all your practice files of today, {x.title()}.\\n\")"
   ]
  },
  {
   "cell_type": "code",
   "execution_count": 17,
   "metadata": {},
   "outputs": [
    {
     "name": "stdout",
     "output_type": "stream",
     "text": [
      "Keep up the good work, Suman\n",
      "I will be looking forward to receive all your practice files of today, Suman.\n",
      "\n",
      "Keep up the good work, Keerti\n",
      "I will be looking forward to receive all your practice files of today, Keerti.\n",
      "\n",
      "Keep up the good work, Yasmeen\n",
      "I will be looking forward to receive all your practice files of today, Yasmeen.\n",
      "\n",
      "Keep up the good work, Ravi\n",
      "I will be looking forward to receive all your practice files of today, Ravi.\n",
      "\n",
      "Keep up the good work, John\n",
      "I will be looking forward to receive all your practice files of today, John.\n",
      "\n",
      "Keep up the good work, Praveen\n",
      "I will be looking forward to receive all your practice files of today, Praveen.\n",
      "\n",
      "Keep up the good work, Sajid\n",
      "I will be looking forward to receive all your practice files of today, Sajid.\n",
      "\n",
      "Thank you all for showing interest in Python training\n"
     ]
    }
   ],
   "source": [
    "for x in students:\n",
    "    print(f\"Keep up the good work, {x.title()}\")\n",
    "    print(f\"I will be looking forward to receive all your practice files of today, {x.title()}.\\n\")\n",
    "print('Thank you all for showing interest in Python training')"
   ]
  },
  {
   "cell_type": "code",
   "execution_count": null,
   "metadata": {},
   "outputs": [],
   "source": [
    "# introduction to organising list:"
   ]
  },
  {
   "cell_type": "code",
   "execution_count": 18,
   "metadata": {},
   "outputs": [
    {
     "name": "stdout",
     "output_type": "stream",
     "text": [
      "['suman', 'keerti', 'yasmeen', 'ravi', 'john', 'praveen', 'sajid']\n"
     ]
    }
   ],
   "source": [
    "print(students)"
   ]
  },
  {
   "cell_type": "code",
   "execution_count": null,
   "metadata": {},
   "outputs": [],
   "source": [
    "# there are 2 ways to organise list\n",
    "# 1. temporary way\n",
    "# 2. permanent way"
   ]
  },
  {
   "cell_type": "code",
   "execution_count": null,
   "metadata": {},
   "outputs": [],
   "source": [
    "# 1. temporary way - here  the changes are applied only temporarily"
   ]
  },
  {
   "cell_type": "code",
   "execution_count": 19,
   "metadata": {},
   "outputs": [
    {
     "name": "stdout",
     "output_type": "stream",
     "text": [
      "['john', 'keerti', 'praveen', 'ravi', 'sajid', 'suman', 'yasmeen']\n"
     ]
    }
   ],
   "source": [
    "print(sorted(students))"
   ]
  },
  {
   "cell_type": "code",
   "execution_count": 20,
   "metadata": {},
   "outputs": [
    {
     "name": "stdout",
     "output_type": "stream",
     "text": [
      "['suman', 'keerti', 'yasmeen', 'ravi', 'john', 'praveen', 'sajid']\n"
     ]
    }
   ],
   "source": [
    "print(students) "
   ]
  },
  {
   "cell_type": "code",
   "execution_count": null,
   "metadata": {},
   "outputs": [],
   "source": [
    "# 2. permanent way"
   ]
  },
  {
   "cell_type": "code",
   "execution_count": 21,
   "metadata": {},
   "outputs": [],
   "source": [
    "students.sort()"
   ]
  },
  {
   "cell_type": "code",
   "execution_count": 24,
   "metadata": {},
   "outputs": [
    {
     "name": "stdout",
     "output_type": "stream",
     "text": [
      "['john', 'keerti', 'praveen', 'ravi', 'sajid', 'suman', 'yasmeen']\n"
     ]
    }
   ],
   "source": [
    "print(students)"
   ]
  },
  {
   "cell_type": "code",
   "execution_count": null,
   "metadata": {},
   "outputs": [],
   "source": []
  }
 ],
 "metadata": {
  "kernelspec": {
   "display_name": "Python 3",
   "language": "python",
   "name": "python3"
  },
  "language_info": {
   "codemirror_mode": {
    "name": "ipython",
    "version": 3
   },
   "file_extension": ".py",
   "mimetype": "text/x-python",
   "name": "python",
   "nbconvert_exporter": "python",
   "pygments_lexer": "ipython3",
   "version": "3.7.6"
  }
 },
 "nbformat": 4,
 "nbformat_minor": 4
}
